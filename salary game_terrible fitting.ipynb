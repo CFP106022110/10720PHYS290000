{
 "cells": [
  {
   "cell_type": "code",
   "execution_count": 11,
   "metadata": {},
   "outputs": [
    {
     "data": {
      "image/png": "[encoded data removed]",
      "text/plain": [
       "<Figure size 432x288 with 1 Axes>"
      ]
     },
     "metadata": {
      "needs_background": "light"
     },
     "output_type": "display_data"
    },
    {
     "name": "stdout",
     "output_type": "stream",
     "text": [
      "(array([   2.,    4.,    5.,    3.,   17.,   50.,   90.,  108.,  201.,\n",
      "        319.,  440.,  375.,  671.,  834.,  616., 1024., 1090., 1012.,\n",
      "        573.,  759.,  597.,  447.,  217.,  234.,  149.,   83.,   34.,\n",
      "         23.,   15.,    8.]), array([-3400.        , -3126.66666667, -2853.33333333, -2580.        ,\n",
      "       -2306.66666667, -2033.33333333, -1760.        , -1486.66666667,\n",
      "       -1213.33333333,  -940.        ,  -666.66666667,  -393.33333333,\n",
      "        -120.        ,   153.33333333,   426.66666667,   700.        ,\n",
      "         973.33333333,  1246.66666667,  1520.        ,  1793.33333333,\n",
      "        2066.66666667,  2340.        ,  2613.33333333,  2886.66666667,\n",
      "        3160.        ,  3433.33333333,  3706.66666667,  3980.        ,\n",
      "        4253.33333333,  4526.66666667,  4800.        ]), <a list of 30 Patch objects>)\n",
      "[-3263.33333333 -2990.         -2716.66666667 -2443.33333333\n",
      " -2170.         -1896.66666667 -1623.33333333 -1350.\n",
      " -1076.66666667  -803.33333333  -530.          -256.66666667\n",
      "    16.66666667   290.           563.33333333   836.66666667\n",
      "  1110.          1383.33333333  1656.66666667  1930.\n",
      "  2203.33333333  2476.66666667  2750.          3023.33333333\n",
      "  3296.66666667  3570.          3843.33333333  4116.66666667\n",
      "  4390.          4663.33333333]\n",
      "[1. 1.] [[inf inf]\n",
      " [inf inf]]\n"
     ]
    },
    {
     "data": {
      "text/plain": [
       "[<matplotlib.lines.Line2D at 0x1fcd224e5f8>]"
      ]
     },
     "execution_count": 11,
     "metadata": {},
     "output_type": "execute_result"
    },
    {
     "data": {
      "image/png": "[encoded data removed]",
      "text/plain": [
       "<Figure size 432x288 with 1 Axes>"
      ]
     },
     "metadata": {
      "needs_background": "light"
     },
     "output_type": "display_data"
    }
   ],
   "source": [
    "import numpy as np\n",
    "import matplotlib.pyplot as plt\n",
    "n=10000\n",
    "m=1000\n",
    "dm=100\n",
    "student_1=np.full(n,m)\n",
    "student_2=np.full(n,m)\n",
    "\n",
    "def play(result,dm):\n",
    "    judg=np.random.randint(0,3)\n",
    "    a = np.random.randint(0, len(result))\n",
    "    b = np.random.randint(0, len(result))\n",
    "    if judg==0:\n",
    "        pass\n",
    "    elif judg==1:\n",
    "        result[a]=result[a]+dm\n",
    "        result[b]=result[b]-dm\n",
    "    elif judg==2:\n",
    "        result[a]=result[a]-dm\n",
    "        result[b]=result[b]+dm\n",
    "    return result\n",
    "for i in range(1000000):\n",
    "    student_1=play(student_1,dm)\n",
    "\n",
    "plt.hist(student_1,bins=30)\n",
    "plt.show()\n",
    "a=plt.hist(student_1,bins=30)\n",
    "print(a)\n",
    "dx=(a[1][1]-a[1][0])\n",
    "bin_center=np.array(a[1][0:-1])+dx/2\n",
    "print(bin_center)\n",
    "\n",
    "from scipy import optimize\n",
    "def test_func(x,amp,w):\n",
    "    return amp*np.exp(-(x-m)**2/(2*w**2))\n",
    "\n",
    "params,par_conv=optimize.curve_fit(f=test_func,xdata=bin_center,ydata=a[0])\n",
    "print(params,par_conv)\n",
    "plt.plot(bin_center,test_func(bin_center,params[0],params[1]),'r*',label='Fitted Function')"
   ]
  },
  {
   "cell_type": "code",
   "execution_count": null,
   "metadata": {},
   "outputs": [],
   "source": []
  }
 ],
 "metadata": {
  "kernelspec": {
   "display_name": "Python 3",
   "language": "python",
   "name": "python3"
  },
  "language_info": {
   "codemirror_mode": {
    "name": "ipython",
    "version": 3
   },
   "file_extension": ".py",
   "mimetype": "text/x-python",
   "name": "python",
   "nbconvert_exporter": "python",
   "pygments_lexer": "ipython3",
   "version": "3.7.1"
  }
 },
 "nbformat": 4,
 "nbformat_minor": 2
}
