{
 "cells": [
  {
   "cell_type": "code",
   "execution_count": 6,
   "metadata": {},
   "outputs": [
    {
     "name": "stdout",
     "output_type": "stream",
     "text": [
      "[array([5.43500729]), array([3.45221132])]\n",
      "NOPE!\n"
     ]
    },
    {
     "data": {
      "image/png": "[encoded data removed]",
      "text/plain": [
       "<Figure size 432x288 with 1 Axes>"
      ]
     },
     "metadata": {
      "needs_background": "light"
     },
     "output_type": "display_data"
    }
   ],
   "source": [
    "import math\n",
    "import matplotlib.pyplot as plt\n",
    "import numpy as np\n",
    "x_pig=10*np.random.random(1)\n",
    "y_pig=10*np.random.random(1)\n",
    "position_pig=[x_pig,y_pig]\n",
    "print(position_pig)\n",
    "plt.plot(x_pig,y_pig,'o')\n",
    "g=9.8\n",
    "v=15\n",
    "theta=1\n",
    "v_x=v*math.cos(theta)\n",
    "v_y=v*math.sin(theta)\n",
    "t=np.arange(0,v_y/4.9,0.01)\n",
    "trace_x=np.array(v_x*t)\n",
    "trace_y=np.array(v_y*t-0.5*g*t**2)\n",
    "plt.plot(trace_x,trace_y)\n",
    "dis_x=((x_pig-trace_x)**2)**0.5\n",
    "dis_y=((y_pig-trace_y)**2)**0.5\n",
    "if 1 in dis_x and 1 in dis_y:\n",
    "    print('KILL!')\n",
    "else:\n",
    "    print('NOPE!')"
   ]
  },
  {
   "cell_type": "code",
   "execution_count": null,
   "metadata": {},
   "outputs": [],
   "source": []
  },
  {
   "cell_type": "code",
   "execution_count": null,
   "metadata": {},
   "outputs": [],
   "source": []
  },
  {
   "cell_type": "code",
   "execution_count": null,
   "metadata": {},
   "outputs": [],
   "source": []
  }
 ],
 "metadata": {
  "kernelspec": {
   "display_name": "Python 3",
   "language": "python",
   "name": "python3"
  },
  "language_info": {
   "codemirror_mode": {
    "name": "ipython",
    "version": 3
   },
   "file_extension": ".py",
   "mimetype": "text/x-python",
   "name": "python",
   "nbconvert_exporter": "python",
   "pygments_lexer": "ipython3",
   "version": "3.7.1"
  }
 },
 "nbformat": 4,
 "nbformat_minor": 2
}
