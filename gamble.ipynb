{
 "cells": [
  {
   "cell_type": "code",
   "execution_count": 91,
   "metadata": {
    "scrolled": false
   },
   "outputs": [
    {
     "data": {
      "text/plain": [
       "(array([  2.,   1.,   2.,   2.,   3.,   3.,   2.,   8.,  17.,  12.,  24.,\n",
       "         33.,  57.,  84., 110., 152., 156., 215., 278., 382., 417., 462.,\n",
       "        475., 575., 587., 636., 609., 596., 593., 587., 497., 501., 396.,\n",
       "        359., 282., 205., 194., 139., 105.,  75.,  48.,  39.,  28.,  24.,\n",
       "         12.,   2.,   4.,   1.,   4.,   5.]),\n",
       " array([-160., -150., -140., -130., -120., -110., -100.,  -90.,  -80.,\n",
       "         -70.,  -60.,  -50.,  -40.,  -30.,  -20.,  -10.,    0.,   10.,\n",
       "          20.,   30.,   40.,   50.,   60.,   70.,   80.,   90.,  100.,\n",
       "         110.,  120.,  130.,  140.,  150.,  160.,  170.,  180.,  190.,\n",
       "         200.,  210.,  220.,  230.,  240.,  250.,  260.,  270.,  280.,\n",
       "         290.,  300.,  310.,  320.,  330.,  340.]),\n",
       " <a list of 50 Patch objects>)"
      ]
     },
     "execution_count": 91,
     "metadata": {},
     "output_type": "execute_result"
    },
    {
     "data": {
      "image/png": "[encoded data removed]",
      "text/plain": [
       "<Figure size 432x288 with 1 Axes>"
      ]
     },
     "metadata": {
      "needs_background": "light"
     },
     "output_type": "display_data"
    }
   ],
   "source": [
    "import numpy as np\n",
    "import matplotlib.pyplot as plt\n",
    "n=10000\n",
    "m=100\n",
    "dm=10\n",
    "student_1=np.full(n,m)\n",
    "student_2=np.full(n,m)\n",
    "\n",
    "def play(result,dm):\n",
    "    judg=np.random.randint(0,3)\n",
    "    a = np.random.randint(0, len(result))\n",
    "    b = np.random.randint(0, len(result))\n",
    "    if judg==0:\n",
    "        pass\n",
    "    elif judg==1:\n",
    "        result[a]=result[a]+dm\n",
    "        result[b]=result[b]-dm\n",
    "    elif judg==2:\n",
    "        result[a]=result[a]-dm\n",
    "        result[b]=result[b]+dm\n",
    "    return result\n",
    "for _ in range(300000):\n",
    "    student_1=play(student_1,dm)\n",
    "\n",
    "plt.hist(student_1,bins=50)\n"
   ]
  },
  {
   "cell_type": "code",
   "execution_count": null,
   "metadata": {},
   "outputs": [],
   "source": []
  },
  {
   "cell_type": "code",
   "execution_count": null,
   "metadata": {},
   "outputs": [],
   "source": []
  },
  {
   "cell_type": "code",
   "execution_count": null,
   "metadata": {},
   "outputs": [],
   "source": []
  },
  {
   "cell_type": "code",
   "execution_count": null,
   "metadata": {},
   "outputs": [],
   "source": []
  }
 ],
 "metadata": {
  "kernelspec": {
   "display_name": "Python 3",
   "language": "python",
   "name": "python3"
  },
  "language_info": {
   "codemirror_mode": {
    "name": "ipython",
    "version": 3
   },
   "file_extension": ".py",
   "mimetype": "text/x-python",
   "name": "python",
   "nbconvert_exporter": "python",
   "pygments_lexer": "ipython3",
   "version": "3.7.1"
  }
 },
 "nbformat": 4,
 "nbformat_minor": 2
}
